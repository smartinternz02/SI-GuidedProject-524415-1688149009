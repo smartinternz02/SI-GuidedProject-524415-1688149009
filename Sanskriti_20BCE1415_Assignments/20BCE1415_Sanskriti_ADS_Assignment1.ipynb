{
 "cells": [
  {
   "cell_type": "markdown",
   "id": "9a0a553a",
   "metadata": {},
   "source": [
    "# SmartInternz Externship Program - Applied Data Science - Assignment 1"
   ]
  },
  {
   "cell_type": "markdown",
   "id": "0cf481e4",
   "metadata": {},
   "source": [
    "### Name: Sanskriti Sanjay Kumar Singh <br> Reg No: 20BCE1415 <br> Email: sanskriti.sanjaykumar2020@&#65279;vitstudent.ac.in <br> Campus: VIT Chennai"
   ]
  },
  {
   "cell_type": "markdown",
   "id": "58ad0d47",
   "metadata": {},
   "source": [
    "## Question 1: Assign your Name to variable name and Age to variable age. Make a Python program that prints your name and age."
   ]
  },
  {
   "cell_type": "code",
   "execution_count": 1,
   "id": "bdfc58d3",
   "metadata": {},
   "outputs": [],
   "source": [
    "# Assigning value to variables\n",
    "name = 'Sanskriti Sanjay Kumar Singh'\n",
    "age = 20"
   ]
  },
  {
   "cell_type": "code",
   "execution_count": 2,
   "id": "30630a5d",
   "metadata": {},
   "outputs": [
    {
     "name": "stdout",
     "output_type": "stream",
     "text": [
      "Name:  Sanskriti Sanjay Kumar Singh \n",
      "Age:  20\n"
     ]
    }
   ],
   "source": [
    "# Printing name and age\n",
    "print('Name: ',name,'\\nAge: ',age)"
   ]
  },
  {
   "cell_type": "markdown",
   "id": "1305f09b",
   "metadata": {},
   "source": [
    "## Question 2: X=\"Datascience is used to extract meaningful insights.\" Split the string."
   ]
  },
  {
   "cell_type": "code",
   "execution_count": 3,
   "id": "24484a80",
   "metadata": {},
   "outputs": [],
   "source": [
    "X = \"Datascience is used to extract meaningful insights.\""
   ]
  },
  {
   "cell_type": "code",
   "execution_count": 4,
   "id": "e2a81044",
   "metadata": {},
   "outputs": [
    {
     "name": "stdout",
     "output_type": "stream",
     "text": [
      "['Datascience', 'is', 'used', 'to', 'extract', 'meaningful', 'insights.']\n"
     ]
    }
   ],
   "source": [
    "# Splitting the string by assuming delimiter as space(' ') i.e. the default delimiter for the split() function\n",
    "lst = X.split()\n",
    "print(lst)"
   ]
  },
  {
   "cell_type": "markdown",
   "id": "b7950570",
   "metadata": {},
   "source": [
    "## Question 3: Make a function that gives multiplication of two numbers."
   ]
  },
  {
   "cell_type": "code",
   "execution_count": 5,
   "id": "b42cb34f",
   "metadata": {},
   "outputs": [],
   "source": [
    "# Defining the function that gives multiplication of two numbers\n",
    "def mult(num1,num2):\n",
    "    return num1*num2"
   ]
  },
  {
   "cell_type": "code",
   "execution_count": 6,
   "id": "f9624817",
   "metadata": {},
   "outputs": [
    {
     "name": "stdout",
     "output_type": "stream",
     "text": [
      "Enter first number: 23\n",
      "Enter second number: 54\n",
      "1242\n"
     ]
    }
   ],
   "source": [
    "# Taking the two numbers as input and printing the product of the two numbers\n",
    "a = int(input('Enter first number: '))\n",
    "b = int(input('Enter second number: '))\n",
    "print(mult(a,b))"
   ]
  },
  {
   "cell_type": "markdown",
   "id": "779c4ca2",
   "metadata": {},
   "source": [
    "## Question 4: Create a Dictionary of 5 States with their capitals. Also print the keys and values."
   ]
  },
  {
   "cell_type": "code",
   "execution_count": 7,
   "id": "b7e9fce2",
   "metadata": {},
   "outputs": [],
   "source": [
    "# Creating the dictionary of 5 states as keys and their capitals as values\n",
    "d = {'Assam':'Dispur',\n",
    "     'Bihar':'Patna',\n",
    "     'Gujarat':'Gandhinagar',\n",
    "     'Kerala':'Thiruvananthapuram',\n",
    "     'Tamil Nadu':'Chennai'}"
   ]
  },
  {
   "cell_type": "code",
   "execution_count": 8,
   "id": "4efea892",
   "metadata": {},
   "outputs": [
    {
     "name": "stdout",
     "output_type": "stream",
     "text": [
      "Keys: Assam Bihar Gujarat Kerala Tamil Nadu "
     ]
    }
   ],
   "source": [
    "# Printing the Keys\n",
    "print('Keys:',end=' ')\n",
    "for k in d.keys():\n",
    "    print(k,end=' ')"
   ]
  },
  {
   "cell_type": "code",
   "execution_count": 9,
   "id": "7b9c6a6d",
   "metadata": {},
   "outputs": [
    {
     "name": "stdout",
     "output_type": "stream",
     "text": [
      "Values: Dispur Patna Gandhinagar Thiruvananthapuram Chennai "
     ]
    }
   ],
   "source": [
    "# Printing the Values\n",
    "print('Values:',end=' ')\n",
    "for v in  d.values():\n",
    "    print(v,end=' ')"
   ]
  },
  {
   "cell_type": "markdown",
   "id": "0d84f49d",
   "metadata": {},
   "source": [
    "## Question 5: Create a list of 1000 numbers using range function."
   ]
  },
  {
   "cell_type": "code",
   "execution_count": 10,
   "id": "66964aa0",
   "metadata": {},
   "outputs": [],
   "source": [
    "# Creating a list of 1000 numbers using range() function (Assuming numbers are to be created sequentially)\n",
    "lst = [num for num in range(1,1001)]"
   ]
  },
  {
   "cell_type": "code",
   "execution_count": 11,
   "id": "c89b804d",
   "metadata": {},
   "outputs": [
    {
     "data": {
      "text/plain": [
       "1000"
      ]
     },
     "execution_count": 11,
     "metadata": {},
     "output_type": "execute_result"
    }
   ],
   "source": [
    "# Printing the length of the list\n",
    "len(lst)"
   ]
  },
  {
   "cell_type": "code",
   "execution_count": 12,
   "id": "1ca3150b",
   "metadata": {},
   "outputs": [
    {
     "name": "stdout",
     "output_type": "stream",
     "text": [
      "[1, 2, 3, 4, 5, 6, 7, 8, 9, 10, 11, 12, 13, 14, 15, 16, 17, 18, 19, 20, 21, 22, 23, 24, 25, 26, 27, 28, 29, 30, 31, 32, 33, 34, 35, 36, 37, 38, 39, 40, 41, 42, 43, 44, 45, 46, 47, 48, 49, 50, 51, 52, 53, 54, 55, 56, 57, 58, 59, 60, 61, 62, 63, 64, 65, 66, 67, 68, 69, 70, 71, 72, 73, 74, 75, 76, 77, 78, 79, 80, 81, 82, 83, 84, 85, 86, 87, 88, 89, 90, 91, 92, 93, 94, 95, 96, 97, 98, 99, 100, 101, 102, 103, 104, 105, 106, 107, 108, 109, 110, 111, 112, 113, 114, 115, 116, 117, 118, 119, 120, 121, 122, 123, 124, 125, 126, 127, 128, 129, 130, 131, 132, 133, 134, 135, 136, 137, 138, 139, 140, 141, 142, 143, 144, 145, 146, 147, 148, 149, 150, 151, 152, 153, 154, 155, 156, 157, 158, 159, 160, 161, 162, 163, 164, 165, 166, 167, 168, 169, 170, 171, 172, 173, 174, 175, 176, 177, 178, 179, 180, 181, 182, 183, 184, 185, 186, 187, 188, 189, 190, 191, 192, 193, 194, 195, 196, 197, 198, 199, 200, 201, 202, 203, 204, 205, 206, 207, 208, 209, 210, 211, 212, 213, 214, 215, 216, 217, 218, 219, 220, 221, 222, 223, 224, 225, 226, 227, 228, 229, 230, 231, 232, 233, 234, 235, 236, 237, 238, 239, 240, 241, 242, 243, 244, 245, 246, 247, 248, 249, 250, 251, 252, 253, 254, 255, 256, 257, 258, 259, 260, 261, 262, 263, 264, 265, 266, 267, 268, 269, 270, 271, 272, 273, 274, 275, 276, 277, 278, 279, 280, 281, 282, 283, 284, 285, 286, 287, 288, 289, 290, 291, 292, 293, 294, 295, 296, 297, 298, 299, 300, 301, 302, 303, 304, 305, 306, 307, 308, 309, 310, 311, 312, 313, 314, 315, 316, 317, 318, 319, 320, 321, 322, 323, 324, 325, 326, 327, 328, 329, 330, 331, 332, 333, 334, 335, 336, 337, 338, 339, 340, 341, 342, 343, 344, 345, 346, 347, 348, 349, 350, 351, 352, 353, 354, 355, 356, 357, 358, 359, 360, 361, 362, 363, 364, 365, 366, 367, 368, 369, 370, 371, 372, 373, 374, 375, 376, 377, 378, 379, 380, 381, 382, 383, 384, 385, 386, 387, 388, 389, 390, 391, 392, 393, 394, 395, 396, 397, 398, 399, 400, 401, 402, 403, 404, 405, 406, 407, 408, 409, 410, 411, 412, 413, 414, 415, 416, 417, 418, 419, 420, 421, 422, 423, 424, 425, 426, 427, 428, 429, 430, 431, 432, 433, 434, 435, 436, 437, 438, 439, 440, 441, 442, 443, 444, 445, 446, 447, 448, 449, 450, 451, 452, 453, 454, 455, 456, 457, 458, 459, 460, 461, 462, 463, 464, 465, 466, 467, 468, 469, 470, 471, 472, 473, 474, 475, 476, 477, 478, 479, 480, 481, 482, 483, 484, 485, 486, 487, 488, 489, 490, 491, 492, 493, 494, 495, 496, 497, 498, 499, 500, 501, 502, 503, 504, 505, 506, 507, 508, 509, 510, 511, 512, 513, 514, 515, 516, 517, 518, 519, 520, 521, 522, 523, 524, 525, 526, 527, 528, 529, 530, 531, 532, 533, 534, 535, 536, 537, 538, 539, 540, 541, 542, 543, 544, 545, 546, 547, 548, 549, 550, 551, 552, 553, 554, 555, 556, 557, 558, 559, 560, 561, 562, 563, 564, 565, 566, 567, 568, 569, 570, 571, 572, 573, 574, 575, 576, 577, 578, 579, 580, 581, 582, 583, 584, 585, 586, 587, 588, 589, 590, 591, 592, 593, 594, 595, 596, 597, 598, 599, 600, 601, 602, 603, 604, 605, 606, 607, 608, 609, 610, 611, 612, 613, 614, 615, 616, 617, 618, 619, 620, 621, 622, 623, 624, 625, 626, 627, 628, 629, 630, 631, 632, 633, 634, 635, 636, 637, 638, 639, 640, 641, 642, 643, 644, 645, 646, 647, 648, 649, 650, 651, 652, 653, 654, 655, 656, 657, 658, 659, 660, 661, 662, 663, 664, 665, 666, 667, 668, 669, 670, 671, 672, 673, 674, 675, 676, 677, 678, 679, 680, 681, 682, 683, 684, 685, 686, 687, 688, 689, 690, 691, 692, 693, 694, 695, 696, 697, 698, 699, 700, 701, 702, 703, 704, 705, 706, 707, 708, 709, 710, 711, 712, 713, 714, 715, 716, 717, 718, 719, 720, 721, 722, 723, 724, 725, 726, 727, 728, 729, 730, 731, 732, 733, 734, 735, 736, 737, 738, 739, 740, 741, 742, 743, 744, 745, 746, 747, 748, 749, 750, 751, 752, 753, 754, 755, 756, 757, 758, 759, 760, 761, 762, 763, 764, 765, 766, 767, 768, 769, 770, 771, 772, 773, 774, 775, 776, 777, 778, 779, 780, 781, 782, 783, 784, 785, 786, 787, 788, 789, 790, 791, 792, 793, 794, 795, 796, 797, 798, 799, 800, 801, 802, 803, 804, 805, 806, 807, 808, 809, 810, 811, 812, 813, 814, 815, 816, 817, 818, 819, 820, 821, 822, 823, 824, 825, 826, 827, 828, 829, 830, 831, 832, 833, 834, 835, 836, 837, 838, 839, 840, 841, 842, 843, 844, 845, 846, 847, 848, 849, 850, 851, 852, 853, 854, 855, 856, 857, 858, 859, 860, 861, 862, 863, 864, 865, 866, 867, 868, 869, 870, 871, 872, 873, 874, 875, 876, 877, 878, 879, 880, 881, 882, 883, 884, 885, 886, 887, 888, 889, 890, 891, 892, 893, 894, 895, 896, 897, 898, 899, 900, 901, 902, 903, 904, 905, 906, 907, 908, 909, 910, 911, 912, 913, 914, 915, 916, 917, 918, 919, 920, 921, 922, 923, 924, 925, 926, 927, 928, 929, 930, 931, 932, 933, 934, 935, 936, 937, 938, 939, 940, 941, 942, 943, 944, 945, 946, 947, 948, 949, 950, 951, 952, 953, 954, 955, 956, 957, 958, 959, 960, 961, 962, 963, 964, 965, 966, 967, 968, 969, 970, 971, 972, 973, 974, 975, 976, 977, 978, 979, 980, 981, 982, 983, 984, 985, 986, 987, 988, 989, 990, 991, 992, 993, 994, 995, 996, 997, 998, 999, 1000]\n"
     ]
    }
   ],
   "source": [
    "# Printing the list\n",
    "print(lst)"
   ]
  },
  {
   "cell_type": "markdown",
   "id": "a7d0e305",
   "metadata": {},
   "source": [
    "## Question 6: Create an identity matrix of dimension 4 by 4"
   ]
  },
  {
   "cell_type": "code",
   "execution_count": 13,
   "id": "c86ddded",
   "metadata": {},
   "outputs": [],
   "source": [
    "# Importing the required NumPy library\n",
    "import numpy as np"
   ]
  },
  {
   "cell_type": "code",
   "execution_count": 14,
   "id": "043e09ad",
   "metadata": {},
   "outputs": [],
   "source": [
    "# Creating the 4x4 identity matrix\n",
    "I = np.eye(4)"
   ]
  },
  {
   "cell_type": "code",
   "execution_count": 15,
   "id": "ef113300",
   "metadata": {},
   "outputs": [
    {
     "name": "stdout",
     "output_type": "stream",
     "text": [
      "[[1. 0. 0. 0.]\n",
      " [0. 1. 0. 0.]\n",
      " [0. 0. 1. 0.]\n",
      " [0. 0. 0. 1.]]\n"
     ]
    }
   ],
   "source": [
    "# Printing the identity matrix\n",
    "print(I)"
   ]
  },
  {
   "cell_type": "markdown",
   "id": "0e80eb82",
   "metadata": {},
   "source": [
    "## Question 7: Create a 3x3 matrix with values ranging from 1 to 9"
   ]
  },
  {
   "cell_type": "code",
   "execution_count": 16,
   "id": "1a90e0d9",
   "metadata": {},
   "outputs": [],
   "source": [
    "# Note: NumPy library already imported in Question 6"
   ]
  },
  {
   "cell_type": "code",
   "execution_count": 17,
   "id": "28ab8583",
   "metadata": {},
   "outputs": [],
   "source": [
    "# Case 1: Creating the 3x3 matrix, assuming sequential values ranging from 1 to 9\n",
    "mat1 = np.arange(1,10).reshape(3,3)"
   ]
  },
  {
   "cell_type": "code",
   "execution_count": 18,
   "id": "6bfc9afd",
   "metadata": {},
   "outputs": [
    {
     "name": "stdout",
     "output_type": "stream",
     "text": [
      "[[1 2 3]\n",
      " [4 5 6]\n",
      " [7 8 9]]\n"
     ]
    }
   ],
   "source": [
    "# Printing the matrix\n",
    "print(mat1)"
   ]
  },
  {
   "cell_type": "code",
   "execution_count": 19,
   "id": "0849b895",
   "metadata": {},
   "outputs": [],
   "source": [
    "# Case 2: Creating the 3x3 matrix, assuming random values ranging from 1 to 9\n",
    "mat2 = np.random.randint(1,10,9).reshape(3,3)"
   ]
  },
  {
   "cell_type": "code",
   "execution_count": 20,
   "id": "75b7f56f",
   "metadata": {},
   "outputs": [
    {
     "name": "stdout",
     "output_type": "stream",
     "text": [
      "[[1 5 3]\n",
      " [2 5 6]\n",
      " [3 7 4]]\n"
     ]
    }
   ],
   "source": [
    "# Printing the matrix\n",
    "print(mat2)"
   ]
  },
  {
   "cell_type": "markdown",
   "id": "71506cfb",
   "metadata": {},
   "source": [
    "## Question 8: Create 2 similar dimensional array and perform sum on them."
   ]
  },
  {
   "cell_type": "code",
   "execution_count": 21,
   "id": "8948d4f8",
   "metadata": {},
   "outputs": [],
   "source": [
    "# Note: NumPy library already imported in Question 6"
   ]
  },
  {
   "cell_type": "code",
   "execution_count": 22,
   "id": "0d8be6ae",
   "metadata": {},
   "outputs": [],
   "source": [
    "# Creating two 2-dimensional 3x4 arrays (i.e. arrays having 3 rows and 4 columns) having numbers ranging from 1 to 100\n",
    "a1 = np.random.randint(1,101,12).reshape(3,4)\n",
    "a2 = np.random.randint(1,101,12).reshape(3,4)"
   ]
  },
  {
   "cell_type": "code",
   "execution_count": 23,
   "id": "36b30064",
   "metadata": {},
   "outputs": [
    {
     "name": "stdout",
     "output_type": "stream",
     "text": [
      "Array 1:\n",
      " [[71 41 68  7]\n",
      " [21 61 70  4]\n",
      " [63 94  6 81]]\n",
      "---------------\n",
      "Array 2:\n",
      " [[47  8 78 69]\n",
      " [88  9 94 21]\n",
      " [88 94 29 56]]\n"
     ]
    }
   ],
   "source": [
    "# Printing the two arrays\n",
    "print('Array 1:\\n',a1)\n",
    "print('---------------')\n",
    "print('Array 2:\\n',a2)"
   ]
  },
  {
   "cell_type": "code",
   "execution_count": 24,
   "id": "a94898ae",
   "metadata": {},
   "outputs": [],
   "source": [
    "# Summing up the two arrays\n",
    "s = np.add(a1,a2)"
   ]
  },
  {
   "cell_type": "code",
   "execution_count": 25,
   "id": "18d5940a",
   "metadata": {},
   "outputs": [
    {
     "name": "stdout",
     "output_type": "stream",
     "text": [
      "[[118  49 146  76]\n",
      " [109  70 164  25]\n",
      " [151 188  35 137]]\n"
     ]
    }
   ],
   "source": [
    "# Printing the resultant array\n",
    "print(s)"
   ]
  },
  {
   "cell_type": "markdown",
   "id": "e1f708e0",
   "metadata": {},
   "source": [
    "## Question 9: Generate the series of dates from 1st Feb, 2023 to 1st March, 2023 (both inclusive)"
   ]
  },
  {
   "cell_type": "code",
   "execution_count": 26,
   "id": "4c4edf7e",
   "metadata": {},
   "outputs": [],
   "source": [
    "# Importing the required Pandas library\n",
    "import pandas as pd"
   ]
  },
  {
   "cell_type": "code",
   "execution_count": 27,
   "id": "f8109b87",
   "metadata": {},
   "outputs": [],
   "source": [
    "# Generating the series of dates from 1st february 2023 to 1st march 2023 (both inclusive)\n",
    "s = pd.Series(pd.date_range(start = '2023-02-01', end = '2023-03-01', inclusive = 'both'))"
   ]
  },
  {
   "cell_type": "code",
   "execution_count": 28,
   "id": "680a4853",
   "metadata": {},
   "outputs": [
    {
     "name": "stdout",
     "output_type": "stream",
     "text": [
      "0    2023-02-01\n",
      "1    2023-02-02\n",
      "2    2023-02-03\n",
      "3    2023-02-04\n",
      "4    2023-02-05\n",
      "5    2023-02-06\n",
      "6    2023-02-07\n",
      "7    2023-02-08\n",
      "8    2023-02-09\n",
      "9    2023-02-10\n",
      "10   2023-02-11\n",
      "11   2023-02-12\n",
      "12   2023-02-13\n",
      "13   2023-02-14\n",
      "14   2023-02-15\n",
      "15   2023-02-16\n",
      "16   2023-02-17\n",
      "17   2023-02-18\n",
      "18   2023-02-19\n",
      "19   2023-02-20\n",
      "20   2023-02-21\n",
      "21   2023-02-22\n",
      "22   2023-02-23\n",
      "23   2023-02-24\n",
      "24   2023-02-25\n",
      "25   2023-02-26\n",
      "26   2023-02-27\n",
      "27   2023-02-28\n",
      "28   2023-03-01\n",
      "dtype: datetime64[ns]\n"
     ]
    }
   ],
   "source": [
    "# Printing the series\n",
    "print(s)"
   ]
  },
  {
   "cell_type": "markdown",
   "id": "49562bc2",
   "metadata": {},
   "source": [
    "## Question 10: Given a dictionary, convert it into corresponding dataframe and display it dictionary = {'Brand': ['Maruti', 'Renault', 'Hyndai'], 'Sales' : [250, 200, 240]}"
   ]
  },
  {
   "cell_type": "code",
   "execution_count": 29,
   "id": "59ac6a7e",
   "metadata": {},
   "outputs": [],
   "source": [
    "# Note: Pandas library already imported in Question 9"
   ]
  },
  {
   "cell_type": "code",
   "execution_count": 30,
   "id": "fc48b392",
   "metadata": {},
   "outputs": [],
   "source": [
    "# Creating the given dictionary\n",
    "dictionary = {'Brand':['Maruti','Renault','Hyundai'],'Sales':[250,200,240]}"
   ]
  },
  {
   "cell_type": "code",
   "execution_count": 31,
   "id": "c0cbabe0",
   "metadata": {},
   "outputs": [],
   "source": [
    "# Converting the dictionary into dataframe\n",
    "df = pd.DataFrame(dictionary)"
   ]
  },
  {
   "cell_type": "code",
   "execution_count": 32,
   "id": "17452c42",
   "metadata": {},
   "outputs": [
    {
     "name": "stdout",
     "output_type": "stream",
     "text": [
      "     Brand  Sales\n",
      "0   Maruti    250\n",
      "1  Renault    200\n",
      "2  Hyundai    240\n"
     ]
    }
   ],
   "source": [
    "# Displaying/Printing the dataframe\n",
    "print(df)"
   ]
  }
 ],
 "metadata": {
  "kernelspec": {
   "display_name": "Python 3 (ipykernel)",
   "language": "python",
   "name": "python3"
  },
  "language_info": {
   "codemirror_mode": {
    "name": "ipython",
    "version": 3
   },
   "file_extension": ".py",
   "mimetype": "text/x-python",
   "name": "python",
   "nbconvert_exporter": "python",
   "pygments_lexer": "ipython3",
   "version": "3.9.13"
  }
 },
 "nbformat": 4,
 "nbformat_minor": 5
}
